{
 "cells": [
  {
   "cell_type": "code",
   "execution_count": 51,
   "metadata": {},
   "outputs": [],
   "source": [
    "import rdkit\n",
    "from rdkit import Chem\n",
    "from rdkit.Chem.FilterCatalog import FilterCatalog , FilterCatalogParams\n"
   ]
  },
  {
   "cell_type": "code",
   "execution_count": 71,
   "metadata": {},
   "outputs": [
    {
     "ename": "ArgumentError",
     "evalue": "Python argument types in\n    FilterCatalogParams.AddCatalog(FilterCatalogParams, type)\ndid not match C++ signature:\n    AddCatalog(class RDKit::FilterCatalogParams {lvalue} self, enum RDKit::FilterCatalogParams::FilterCatalogs catalogs)",
     "output_type": "error",
     "traceback": [
      "\u001b[1;31m---------------------------------------------------------------------------\u001b[0m",
      "\u001b[1;31mArgumentError\u001b[0m                             Traceback (most recent call last)",
      "Cell \u001b[1;32mIn[71], line 12\u001b[0m\n\u001b[0;32m     10\u001b[0m \u001b[38;5;66;03m# Set up the filter catalog parameters\u001b[39;00m\n\u001b[0;32m     11\u001b[0m params \u001b[38;5;241m=\u001b[39m FilterCatalog\u001b[38;5;241m.\u001b[39mFilterCatalogParams()\n\u001b[1;32m---> 12\u001b[0m \u001b[43mparams\u001b[49m\u001b[38;5;241;43m.\u001b[39;49m\u001b[43mAddCatalog\u001b[49m\u001b[43m(\u001b[49m\u001b[43mFilterCatalog\u001b[49m\u001b[38;5;241;43m.\u001b[39;49m\u001b[43mFilterCatalogParams\u001b[49m\u001b[38;5;241;43m.\u001b[39;49m\u001b[43mFilterCatalogs\u001b[49m\u001b[43m)\u001b[49m  \u001b[38;5;66;03m# Using PAINS as an example filter\u001b[39;00m\n\u001b[0;32m     14\u001b[0m \u001b[38;5;66;03m# Create the filter catalog\u001b[39;00m\n\u001b[0;32m     15\u001b[0m catalog \u001b[38;5;241m=\u001b[39m FilterCatalog\u001b[38;5;241m.\u001b[39mFilterCatalog(params)\n",
      "\u001b[1;31mArgumentError\u001b[0m: Python argument types in\n    FilterCatalogParams.AddCatalog(FilterCatalogParams, type)\ndid not match C++ signature:\n    AddCatalog(class RDKit::FilterCatalogParams {lvalue} self, enum RDKit::FilterCatalogParams::FilterCatalogs catalogs)"
     ]
    }
   ],
   "source": [
    "from rdkit import Chem\n",
    "from rdkit.Chem import FilterCatalog\n",
    "\n",
    "# Define a SMILES string (replace this with your desired input)\n",
    "smiles = \"CCOOOOO\"  # Example: ethanol\n",
    "\n",
    "# Convert SMILES to an RDKit molecule\n",
    "mol = Chem.MolFromSmiles(smiles)\n",
    "\n",
    "# Set up the filter catalog parameters\n",
    "params = FilterCatalog.FilterCatalogParams()\n",
    "params.AddCatalog(FilterCatalog.FilterCatalogParams.FilterCatalogs)  # Using PAINS as an example filter\n",
    "\n",
    "# Create the filter catalog\n",
    "catalog = FilterCatalog.FilterCatalog(params)\n",
    "\n",
    "# Check if the molecule matches any filters\n",
    "if mol:\n",
    "    entry = catalog.HasMatch(mol)\n",
    "    if entry:\n",
    "        print(\"Molecule matches a filter.\")\n",
    "    else:\n",
    "        print(\"Molecule does not match any filter.\")\n",
    "else:\n",
    "    print(\"Invalid SMILES string.\")\n"
   ]
  },
  {
   "cell_type": "code",
   "execution_count": 78,
   "metadata": {},
   "outputs": [
    {
     "name": "stdout",
     "output_type": "stream",
     "text": [
      "['PAINS_A', 'Brenk', 'NIH', 'ChEMBL23_Dundee', 'ChEMBL23_BMS', 'ChEMBL23_MLSMR', 'ChEMBL23_Inpharmatica', 'ChEMBL23_LINT']\n",
      "['azo_A(324)', 'diazo_group', 'azo_aryl', 'diazo group', 'azo_aryl', 'Azo', 'Filter5_azo', 'acyclic N-,=N and not N bound to carbonyl or sulfone']\n"
     ]
    },
    {
     "data": {
      "text/plain": [
       "['azo_A(324)',\n",
       " 'diazo_group',\n",
       " 'azo_aryl',\n",
       " 'diazo group',\n",
       " 'azo_aryl',\n",
       " 'Azo',\n",
       " 'Filter5_azo',\n",
       " 'acyclic N-,=N and not N bound to carbonyl or sulfone']"
      ]
     },
     "execution_count": 78,
     "metadata": {},
     "output_type": "execute_result"
    }
   ],
   "source": [
    "from rdkit import Chem\n",
    "from rdkit.Chem.FilterCatalog import FilterCatalog, FilterCatalogParams\n",
    "\n",
    "mol = Chem.MolFromSmiles('CC1=C(C=C(C=C1)N2C(=O)C(=C(N2)C)N=NC3=CC=CC(=C3O)C4=CC(=CC=C4)C(=O)O)C')  # e.g. Eltrombopag\n",
    "\n",
    "# ALL Filters\n",
    "params_all = FilterCatalogParams()\n",
    "params_all.AddCatalog(FilterCatalogParams.FilterCatalogs.ALL)\n",
    "True\n",
    "catalog_all = FilterCatalog(params_all)\n",
    "\n",
    "print([entry.GetProp('FilterSet') for entry in catalog_all.GetMatches(mol)])\n",
    "['PAINS_A', 'Brenk', 'NIH', 'ChEMBL23_Dundee', 'ChEMBL23_BMS', 'ChEMBL23_MLSMR', 'ChEMBL23_Inpharmatica', 'ChEMBL23_LINT']\n",
    "print([entry.GetDescription() for entry in catalog_all.GetMatches(mol)])\n",
    "['azo_A(324)', 'diazo_group', 'azo_aryl', 'diazo group', 'azo_aryl', 'Azo', 'Filter5_azo', 'acyclic N-,=N and not N bound to carbonyl or sulfone']"
   ]
  },
  {
   "cell_type": "code",
   "execution_count": 80,
   "metadata": {},
   "outputs": [
    {
     "ename": "NameError",
     "evalue": "name 'all_descriptors' is not defined",
     "output_type": "error",
     "traceback": [
      "\u001b[1;31m---------------------------------------------------------------------------\u001b[0m",
      "\u001b[1;31mNameError\u001b[0m                                 Traceback (most recent call last)",
      "Cell \u001b[1;32mIn[80], line 1\u001b[0m\n\u001b[1;32m----> 1\u001b[0m all_descriptors_dict \u001b[38;5;241m=\u001b[39m \u001b[38;5;28mdict\u001b[39m(\u001b[38;5;28mzip\u001b[39m([desc[\u001b[38;5;241m0\u001b[39m] \u001b[38;5;28;01mfor\u001b[39;00m desc \u001b[38;5;129;01min\u001b[39;00m Descriptors\u001b[38;5;241m.\u001b[39m_descList], \u001b[43mall_descriptors\u001b[49m))\n\u001b[0;32m      2\u001b[0m tpsa \u001b[38;5;241m=\u001b[39m all_descriptors_dict[\u001b[38;5;124m\"\u001b[39m\u001b[38;5;124mTPSA\u001b[39m\u001b[38;5;124m\"\u001b[39m]\n\u001b[0;32m      3\u001b[0m \u001b[38;5;28mprint\u001b[39m(\u001b[38;5;124mf\u001b[39m\u001b[38;5;124m\"\u001b[39m\u001b[38;5;124mTPSA: \u001b[39m\u001b[38;5;132;01m{\u001b[39;00mtpsa\u001b[38;5;132;01m}\u001b[39;00m\u001b[38;5;124m\"\u001b[39m)\n",
      "\u001b[1;31mNameError\u001b[0m: name 'all_descriptors' is not defined"
     ]
    }
   ],
   "source": [
    "all_descriptors_dict = dict(zip([desc[0] for desc in Descriptors._descList], all_descriptors))\n",
    "tpsa = all_descriptors_dict[\"TPSA\"]\n",
    "print(f\"TPSA: {tpsa}\")"
   ]
  },
  {
   "cell_type": "code",
   "execution_count": null,
   "metadata": {},
   "outputs": [],
   "source": []
  }
 ],
 "metadata": {
  "kernelspec": {
   "display_name": "Python 3",
   "language": "python",
   "name": "python3"
  },
  "language_info": {
   "codemirror_mode": {
    "name": "ipython",
    "version": 3
   },
   "file_extension": ".py",
   "mimetype": "text/x-python",
   "name": "python",
   "nbconvert_exporter": "python",
   "pygments_lexer": "ipython3",
   "version": "3.9.12"
  }
 },
 "nbformat": 4,
 "nbformat_minor": 2
}
