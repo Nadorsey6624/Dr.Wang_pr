{
 "cells": [
  {
   "cell_type": "code",
   "execution_count": 1,
   "metadata": {},
   "outputs": [],
   "source": [
    "from rdkit import Chem\n",
    "import rdkit \n",
    "rdkit.__version__\n",
    "\n",
    "from rdkit.Chem import Descriptors"
   ]
  },
  {
   "cell_type": "code",
   "execution_count": 2,
   "metadata": {},
   "outputs": [
    {
     "name": "stdout",
     "output_type": "stream",
     "text": [
      "217\n",
      "[('MaxAbsEStateIndex', <function MaxAbsEStateIndex at 0x000001AEF885A480>), ('MaxEStateIndex', <function MaxEStateIndex at 0x000001AEF885A340>), ('MinAbsEStateIndex', <function MinAbsEStateIndex at 0x000001AEF885A520>), ('MinEStateIndex', <function MinEStateIndex at 0x000001AEF885A3E0>), ('qed', <function qed at 0x000001AEF88A14E0>)]\n"
     ]
    }
   ],
   "source": [
    "Chem_visul = Chem.MolFromSmiles('CCCO')\n",
    "Chem_visul\n",
    "\n",
    "\n",
    "print(len(Descriptors._descList))\n",
    "print(Descriptors._descList[:5])"
   ]
  },
  {
   "cell_type": "code",
   "execution_count": 3,
   "metadata": {},
   "outputs": [
    {
     "data": {
      "text/plain": [
       "np.float64(7.875)"
      ]
     },
     "execution_count": 3,
     "metadata": {},
     "output_type": "execute_result"
    }
   ],
   "source": [
    "Descriptors._descList[0][1](Chem_visul)"
   ]
  },
  {
   "cell_type": "code",
   "execution_count": 4,
   "metadata": {},
   "outputs": [],
   "source": [
    "def getMolDescriptors(mol, missingVal=None):\n",
    "    ''' calculate the full list of descriptors for a molecule\n",
    "    \n",
    "        missingVal is used if the descriptor cannot be calculated\n",
    "    '''\n",
    "    res = {}\n",
    "    for nm,fn in Descriptors._descList:\n",
    "        # some of the descriptor fucntions can throw errors if they fail, catch those here:\n",
    "        try:\n",
    "            val = fn(mol)\n",
    "        except:\n",
    "            # print the error message:\n",
    "            import traceback\n",
    "            traceback.print_exc()\n",
    "            # and set the descriptor value to whatever missingVal is\n",
    "            val = missingVal\n",
    "        res[nm] = val\n",
    "    return res\n",
    "        "
   ]
  },
  {
   "cell_type": "code",
   "execution_count": 5,
   "metadata": {},
   "outputs": [
    {
     "data": {
      "text/plain": [
       "{'MaxAbsEStateIndex': np.float64(7.875),\n",
       " 'MaxEStateIndex': np.float64(7.875),\n",
       " 'MinAbsEStateIndex': np.float64(0.3194444444444444),\n",
       " 'MinEStateIndex': np.float64(0.3194444444444444),\n",
       " 'qed': 0.46378398302396845,\n",
       " 'SPS': 7.5,\n",
       " 'MolWt': 60.096,\n",
       " 'HeavyAtomMolWt': 52.032000000000004,\n",
       " 'ExactMolWt': 60.057514876,\n",
       " 'NumValenceElectrons': 26,\n",
       " 'NumRadicalElectrons': 0,\n",
       " 'MaxPartialCharge': 0.04278927992053378,\n",
       " 'MinPartialCharge': -0.39638735063233616,\n",
       " 'MaxAbsPartialCharge': 0.39638735063233616,\n",
       " 'MinAbsPartialCharge': 0.04278927992053378,\n",
       " 'FpDensityMorgan1': 1.75,\n",
       " 'FpDensityMorgan2': 2.0,\n",
       " 'FpDensityMorgan3': 2.0,\n",
       " 'BCUT2D_MWHI': 16.24985029953303,\n",
       " 'BCUT2D_MWLOW': 10.547573166539827,\n",
       " 'BCUT2D_CHGHI': 1.5677116084812683,\n",
       " 'BCUT2D_CHGLO': -1.6891847809432488,\n",
       " 'BCUT2D_LOGPHI': 1.6080928326075683,\n",
       " 'BCUT2D_LOGPLOW': -1.6908528015472257,\n",
       " 'BCUT2D_MRHI': 4.09636113465441,\n",
       " 'BCUT2D_MRLOW': 0.29476856785792466,\n",
       " 'AvgIpc': 1.370950594454669,\n",
       " 'BalabanJ': np.float64(1.9747448713915894),\n",
       " 'BertzCT': 2.0,\n",
       " 'Chi0': np.float64(3.414213562373095),\n",
       " 'Chi0n': 2.861427157873053,\n",
       " 'Chi0v': 2.861427157873053,\n",
       " 'Chi1': np.float64(1.914213562373095),\n",
       " 'Chi1n': 1.5233345472033855,\n",
       " 'Chi1v': 1.5233345472033855,\n",
       " 'Chi2n': 0.7236067977499788,\n",
       " 'Chi2v': 0.7236067977499788,\n",
       " 'Chi3n': 0.2236067977499789,\n",
       " 'Chi3v': 0.2236067977499789,\n",
       " 'Chi4n': 0.0,\n",
       " 'Chi4v': 0.0,\n",
       " 'HallKierAlpha': -0.04,\n",
       " 'Ipc': np.float64(6.854752972273345),\n",
       " 'Kappa1': 3.9600000000000004,\n",
       " 'Kappa2': 2.9600000000000004,\n",
       " 'Kappa3': 1.96,\n",
       " 'LabuteASA': 26.26336900881878,\n",
       " 'PEOE_VSA1': 5.106527394840706,\n",
       " 'PEOE_VSA10': 0.0,\n",
       " 'PEOE_VSA11': 0.0,\n",
       " 'PEOE_VSA12': 0.0,\n",
       " 'PEOE_VSA13': 0.0,\n",
       " 'PEOE_VSA14': 0.0,\n",
       " 'PEOE_VSA2': 0.0,\n",
       " 'PEOE_VSA3': 0.0,\n",
       " 'PEOE_VSA4': 0.0,\n",
       " 'PEOE_VSA5': 0.0,\n",
       " 'PEOE_VSA6': 6.923737199690624,\n",
       " 'PEOE_VSA7': 6.4208216229260096,\n",
       " 'PEOE_VSA8': 6.606881964512918,\n",
       " 'PEOE_VSA9': 0.0,\n",
       " 'SMR_VSA1': 5.106527394840706,\n",
       " 'SMR_VSA10': 0.0,\n",
       " 'SMR_VSA2': 0.0,\n",
       " 'SMR_VSA3': 0.0,\n",
       " 'SMR_VSA4': 0.0,\n",
       " 'SMR_VSA5': 13.344558822616634,\n",
       " 'SMR_VSA6': 6.606881964512918,\n",
       " 'SMR_VSA7': 0.0,\n",
       " 'SMR_VSA8': 0.0,\n",
       " 'SMR_VSA9': 0.0,\n",
       " 'SlogP_VSA1': 0.0,\n",
       " 'SlogP_VSA10': 0.0,\n",
       " 'SlogP_VSA11': 0.0,\n",
       " 'SlogP_VSA12': 0.0,\n",
       " 'SlogP_VSA2': 11.713409359353623,\n",
       " 'SlogP_VSA3': 0.0,\n",
       " 'SlogP_VSA4': 0.0,\n",
       " 'SlogP_VSA5': 13.344558822616634,\n",
       " 'SlogP_VSA6': 0.0,\n",
       " 'SlogP_VSA7': 0.0,\n",
       " 'SlogP_VSA8': 0.0,\n",
       " 'SlogP_VSA9': 0.0,\n",
       " 'TPSA': 20.23,\n",
       " 'EState_VSA1': np.float64(0.0),\n",
       " 'EState_VSA10': np.float64(0.0),\n",
       " 'EState_VSA11': np.float64(0.0),\n",
       " 'EState_VSA2': np.float64(0.0),\n",
       " 'EState_VSA3': np.float64(6.606881964512918),\n",
       " 'EState_VSA4': np.float64(6.4208216229260096),\n",
       " 'EState_VSA5': np.float64(0.0),\n",
       " 'EState_VSA6': np.float64(0.0),\n",
       " 'EState_VSA7': np.float64(6.923737199690624),\n",
       " 'EState_VSA8': np.float64(0.0),\n",
       " 'EState_VSA9': np.float64(5.106527394840706),\n",
       " 'VSA_EState1': np.float64(0.0),\n",
       " 'VSA_EState10': np.float64(0.0),\n",
       " 'VSA_EState2': np.float64(0.0),\n",
       " 'VSA_EState3': np.float64(7.875),\n",
       " 'VSA_EState4': np.float64(0.0),\n",
       " 'VSA_EState5': np.float64(0.0),\n",
       " 'VSA_EState6': np.float64(0.0),\n",
       " 'VSA_EState7': np.float64(0.875),\n",
       " 'VSA_EState8': np.float64(2.25),\n",
       " 'VSA_EState9': np.float64(0.0),\n",
       " 'FractionCSP3': 1.0,\n",
       " 'HeavyAtomCount': 4,\n",
       " 'NHOHCount': 1,\n",
       " 'NOCount': 1,\n",
       " 'NumAliphaticCarbocycles': 0,\n",
       " 'NumAliphaticHeterocycles': 0,\n",
       " 'NumAliphaticRings': 0,\n",
       " 'NumAmideBonds': 0,\n",
       " 'NumAromaticCarbocycles': 0,\n",
       " 'NumAromaticHeterocycles': 0,\n",
       " 'NumAromaticRings': 0,\n",
       " 'NumAtomStereoCenters': 0,\n",
       " 'NumBridgeheadAtoms': 0,\n",
       " 'NumHAcceptors': 1,\n",
       " 'NumHDonors': 1,\n",
       " 'NumHeteroatoms': 1,\n",
       " 'NumHeterocycles': 0,\n",
       " 'NumRotatableBonds': 1,\n",
       " 'NumSaturatedCarbocycles': 0,\n",
       " 'NumSaturatedHeterocycles': 0,\n",
       " 'NumSaturatedRings': 0,\n",
       " 'NumSpiroAtoms': 0,\n",
       " 'NumUnspecifiedAtomStereoCenters': 0,\n",
       " 'Phi': 2.9304000000000006,\n",
       " 'RingCount': 0,\n",
       " 'MolLogP': 0.3887,\n",
       " 'MolMR': 17.376800000000003,\n",
       " 'fr_Al_COO': 0,\n",
       " 'fr_Al_OH': 1,\n",
       " 'fr_Al_OH_noTert': 1,\n",
       " 'fr_ArN': 0,\n",
       " 'fr_Ar_COO': 0,\n",
       " 'fr_Ar_N': 0,\n",
       " 'fr_Ar_NH': 0,\n",
       " 'fr_Ar_OH': 0,\n",
       " 'fr_COO': 0,\n",
       " 'fr_COO2': 0,\n",
       " 'fr_C_O': 0,\n",
       " 'fr_C_O_noCOO': 0,\n",
       " 'fr_C_S': 0,\n",
       " 'fr_HOCCN': 0,\n",
       " 'fr_Imine': 0,\n",
       " 'fr_NH0': 0,\n",
       " 'fr_NH1': 0,\n",
       " 'fr_NH2': 0,\n",
       " 'fr_N_O': 0,\n",
       " 'fr_Ndealkylation1': 0,\n",
       " 'fr_Ndealkylation2': 0,\n",
       " 'fr_Nhpyrrole': 0,\n",
       " 'fr_SH': 0,\n",
       " 'fr_aldehyde': 0,\n",
       " 'fr_alkyl_carbamate': 0,\n",
       " 'fr_alkyl_halide': 0,\n",
       " 'fr_allylic_oxid': 0,\n",
       " 'fr_amide': 0,\n",
       " 'fr_amidine': 0,\n",
       " 'fr_aniline': 0,\n",
       " 'fr_aryl_methyl': 0,\n",
       " 'fr_azide': 0,\n",
       " 'fr_azo': 0,\n",
       " 'fr_barbitur': 0,\n",
       " 'fr_benzene': 0,\n",
       " 'fr_benzodiazepine': 0,\n",
       " 'fr_bicyclic': 0,\n",
       " 'fr_diazo': 0,\n",
       " 'fr_dihydropyridine': 0,\n",
       " 'fr_epoxide': 0,\n",
       " 'fr_ester': 0,\n",
       " 'fr_ether': 0,\n",
       " 'fr_furan': 0,\n",
       " 'fr_guanido': 0,\n",
       " 'fr_halogen': 0,\n",
       " 'fr_hdrzine': 0,\n",
       " 'fr_hdrzone': 0,\n",
       " 'fr_imidazole': 0,\n",
       " 'fr_imide': 0,\n",
       " 'fr_isocyan': 0,\n",
       " 'fr_isothiocyan': 0,\n",
       " 'fr_ketone': 0,\n",
       " 'fr_ketone_Topliss': 0,\n",
       " 'fr_lactam': 0,\n",
       " 'fr_lactone': 0,\n",
       " 'fr_methoxy': 0,\n",
       " 'fr_morpholine': 0,\n",
       " 'fr_nitrile': 0,\n",
       " 'fr_nitro': 0,\n",
       " 'fr_nitro_arom': 0,\n",
       " 'fr_nitro_arom_nonortho': 0,\n",
       " 'fr_nitroso': 0,\n",
       " 'fr_oxazole': 0,\n",
       " 'fr_oxime': 0,\n",
       " 'fr_para_hydroxylation': 0,\n",
       " 'fr_phenol': 0,\n",
       " 'fr_phenol_noOrthoHbond': 0,\n",
       " 'fr_phos_acid': 0,\n",
       " 'fr_phos_ester': 0,\n",
       " 'fr_piperdine': 0,\n",
       " 'fr_piperzine': 0,\n",
       " 'fr_priamide': 0,\n",
       " 'fr_prisulfonamd': 0,\n",
       " 'fr_pyridine': 0,\n",
       " 'fr_quatN': 0,\n",
       " 'fr_sulfide': 0,\n",
       " 'fr_sulfonamd': 0,\n",
       " 'fr_sulfone': 0,\n",
       " 'fr_term_acetylene': 0,\n",
       " 'fr_tetrazole': 0,\n",
       " 'fr_thiazole': 0,\n",
       " 'fr_thiocyan': 0,\n",
       " 'fr_thiophene': 0,\n",
       " 'fr_unbrch_alkane': 0,\n",
       " 'fr_urea': 0}"
      ]
     },
     "execution_count": 5,
     "metadata": {},
     "output_type": "execute_result"
    }
   ],
   "source": [
    "getMolDescriptors(Chem_visul)"
   ]
  },
  {
   "cell_type": "code",
   "execution_count": 6,
   "metadata": {},
   "outputs": [],
   "source": [
    "import pandas as pd"
   ]
  },
  {
   "cell_type": "code",
   "execution_count": 7,
   "metadata": {},
   "outputs": [],
   "source": [
    "data = getMolDescriptors(Chem_visul)"
   ]
  },
  {
   "cell_type": "code",
   "execution_count": 10,
   "metadata": {},
   "outputs": [],
   "source": [
    "descriptor_names = [name for name, _ in Descriptors.descList]\n",
    "\n",
    "dataframe = pd.DataFrame([list(data.values())], columns=descriptor_names)\n",
    "\n",
    "\n",
    "\n"
   ]
  },
  {
   "cell_type": "code",
   "execution_count": 11,
   "metadata": {},
   "outputs": [
    {
     "data": {
      "application/vnd.microsoft.datawrangler.viewer.v0+json": {
       "columns": [
        {
         "name": "index",
         "rawType": "int64",
         "type": "integer"
        },
        {
         "name": "MaxAbsEStateIndex",
         "rawType": "float64",
         "type": "float"
        },
        {
         "name": "MaxEStateIndex",
         "rawType": "float64",
         "type": "float"
        },
        {
         "name": "MinAbsEStateIndex",
         "rawType": "float64",
         "type": "float"
        },
        {
         "name": "MinEStateIndex",
         "rawType": "float64",
         "type": "float"
        },
        {
         "name": "qed",
         "rawType": "float64",
         "type": "float"
        },
        {
         "name": "SPS",
         "rawType": "float64",
         "type": "float"
        },
        {
         "name": "MolWt",
         "rawType": "float64",
         "type": "float"
        },
        {
         "name": "HeavyAtomMolWt",
         "rawType": "float64",
         "type": "float"
        },
        {
         "name": "ExactMolWt",
         "rawType": "float64",
         "type": "float"
        },
        {
         "name": "NumValenceElectrons",
         "rawType": "int64",
         "type": "integer"
        },
        {
         "name": "NumRadicalElectrons",
         "rawType": "int64",
         "type": "integer"
        },
        {
         "name": "MaxPartialCharge",
         "rawType": "float64",
         "type": "float"
        },
        {
         "name": "MinPartialCharge",
         "rawType": "float64",
         "type": "float"
        },
        {
         "name": "MaxAbsPartialCharge",
         "rawType": "float64",
         "type": "float"
        },
        {
         "name": "MinAbsPartialCharge",
         "rawType": "float64",
         "type": "float"
        },
        {
         "name": "FpDensityMorgan1",
         "rawType": "float64",
         "type": "float"
        },
        {
         "name": "FpDensityMorgan2",
         "rawType": "float64",
         "type": "float"
        },
        {
         "name": "FpDensityMorgan3",
         "rawType": "float64",
         "type": "float"
        },
        {
         "name": "BCUT2D_MWHI",
         "rawType": "float64",
         "type": "float"
        },
        {
         "name": "BCUT2D_MWLOW",
         "rawType": "float64",
         "type": "float"
        },
        {
         "name": "BCUT2D_CHGHI",
         "rawType": "float64",
         "type": "float"
        },
        {
         "name": "BCUT2D_CHGLO",
         "rawType": "float64",
         "type": "float"
        },
        {
         "name": "BCUT2D_LOGPHI",
         "rawType": "float64",
         "type": "float"
        },
        {
         "name": "BCUT2D_LOGPLOW",
         "rawType": "float64",
         "type": "float"
        },
        {
         "name": "BCUT2D_MRHI",
         "rawType": "float64",
         "type": "float"
        },
        {
         "name": "BCUT2D_MRLOW",
         "rawType": "float64",
         "type": "float"
        },
        {
         "name": "AvgIpc",
         "rawType": "float64",
         "type": "float"
        },
        {
         "name": "BalabanJ",
         "rawType": "float64",
         "type": "float"
        },
        {
         "name": "BertzCT",
         "rawType": "float64",
         "type": "float"
        },
        {
         "name": "Chi0",
         "rawType": "float64",
         "type": "float"
        },
        {
         "name": "Chi0n",
         "rawType": "float64",
         "type": "float"
        },
        {
         "name": "Chi0v",
         "rawType": "float64",
         "type": "float"
        },
        {
         "name": "Chi1",
         "rawType": "float64",
         "type": "float"
        },
        {
         "name": "Chi1n",
         "rawType": "float64",
         "type": "float"
        },
        {
         "name": "Chi1v",
         "rawType": "float64",
         "type": "float"
        },
        {
         "name": "Chi2n",
         "rawType": "float64",
         "type": "float"
        },
        {
         "name": "Chi2v",
         "rawType": "float64",
         "type": "float"
        },
        {
         "name": "Chi3n",
         "rawType": "float64",
         "type": "float"
        },
        {
         "name": "Chi3v",
         "rawType": "float64",
         "type": "float"
        },
        {
         "name": "Chi4n",
         "rawType": "float64",
         "type": "float"
        },
        {
         "name": "Chi4v",
         "rawType": "float64",
         "type": "float"
        },
        {
         "name": "HallKierAlpha",
         "rawType": "float64",
         "type": "float"
        },
        {
         "name": "Ipc",
         "rawType": "float64",
         "type": "float"
        },
        {
         "name": "Kappa1",
         "rawType": "float64",
         "type": "float"
        },
        {
         "name": "Kappa2",
         "rawType": "float64",
         "type": "float"
        },
        {
         "name": "Kappa3",
         "rawType": "float64",
         "type": "float"
        },
        {
         "name": "LabuteASA",
         "rawType": "float64",
         "type": "float"
        },
        {
         "name": "PEOE_VSA1",
         "rawType": "float64",
         "type": "float"
        },
        {
         "name": "PEOE_VSA10",
         "rawType": "float64",
         "type": "float"
        },
        {
         "name": "PEOE_VSA11",
         "rawType": "float64",
         "type": "float"
        },
        {
         "name": "PEOE_VSA12",
         "rawType": "float64",
         "type": "float"
        },
        {
         "name": "PEOE_VSA13",
         "rawType": "float64",
         "type": "float"
        },
        {
         "name": "PEOE_VSA14",
         "rawType": "float64",
         "type": "float"
        },
        {
         "name": "PEOE_VSA2",
         "rawType": "float64",
         "type": "float"
        },
        {
         "name": "PEOE_VSA3",
         "rawType": "float64",
         "type": "float"
        },
        {
         "name": "PEOE_VSA4",
         "rawType": "float64",
         "type": "float"
        },
        {
         "name": "PEOE_VSA5",
         "rawType": "float64",
         "type": "float"
        },
        {
         "name": "PEOE_VSA6",
         "rawType": "float64",
         "type": "float"
        },
        {
         "name": "PEOE_VSA7",
         "rawType": "float64",
         "type": "float"
        },
        {
         "name": "PEOE_VSA8",
         "rawType": "float64",
         "type": "float"
        },
        {
         "name": "PEOE_VSA9",
         "rawType": "float64",
         "type": "float"
        },
        {
         "name": "SMR_VSA1",
         "rawType": "float64",
         "type": "float"
        },
        {
         "name": "SMR_VSA10",
         "rawType": "float64",
         "type": "float"
        },
        {
         "name": "SMR_VSA2",
         "rawType": "float64",
         "type": "float"
        },
        {
         "name": "SMR_VSA3",
         "rawType": "float64",
         "type": "float"
        },
        {
         "name": "SMR_VSA4",
         "rawType": "float64",
         "type": "float"
        },
        {
         "name": "SMR_VSA5",
         "rawType": "float64",
         "type": "float"
        },
        {
         "name": "SMR_VSA6",
         "rawType": "float64",
         "type": "float"
        },
        {
         "name": "SMR_VSA7",
         "rawType": "float64",
         "type": "float"
        },
        {
         "name": "SMR_VSA8",
         "rawType": "float64",
         "type": "float"
        },
        {
         "name": "SMR_VSA9",
         "rawType": "float64",
         "type": "float"
        },
        {
         "name": "SlogP_VSA1",
         "rawType": "float64",
         "type": "float"
        },
        {
         "name": "SlogP_VSA10",
         "rawType": "float64",
         "type": "float"
        },
        {
         "name": "SlogP_VSA11",
         "rawType": "float64",
         "type": "float"
        },
        {
         "name": "SlogP_VSA12",
         "rawType": "float64",
         "type": "float"
        },
        {
         "name": "SlogP_VSA2",
         "rawType": "float64",
         "type": "float"
        },
        {
         "name": "SlogP_VSA3",
         "rawType": "float64",
         "type": "float"
        },
        {
         "name": "SlogP_VSA4",
         "rawType": "float64",
         "type": "float"
        },
        {
         "name": "SlogP_VSA5",
         "rawType": "float64",
         "type": "float"
        },
        {
         "name": "SlogP_VSA6",
         "rawType": "float64",
         "type": "float"
        },
        {
         "name": "SlogP_VSA7",
         "rawType": "float64",
         "type": "float"
        },
        {
         "name": "SlogP_VSA8",
         "rawType": "float64",
         "type": "float"
        },
        {
         "name": "SlogP_VSA9",
         "rawType": "float64",
         "type": "float"
        },
        {
         "name": "TPSA",
         "rawType": "float64",
         "type": "float"
        },
        {
         "name": "EState_VSA1",
         "rawType": "float64",
         "type": "float"
        },
        {
         "name": "EState_VSA10",
         "rawType": "float64",
         "type": "float"
        },
        {
         "name": "EState_VSA11",
         "rawType": "float64",
         "type": "float"
        },
        {
         "name": "EState_VSA2",
         "rawType": "float64",
         "type": "float"
        },
        {
         "name": "EState_VSA3",
         "rawType": "float64",
         "type": "float"
        },
        {
         "name": "EState_VSA4",
         "rawType": "float64",
         "type": "float"
        },
        {
         "name": "EState_VSA5",
         "rawType": "float64",
         "type": "float"
        },
        {
         "name": "EState_VSA6",
         "rawType": "float64",
         "type": "float"
        },
        {
         "name": "EState_VSA7",
         "rawType": "float64",
         "type": "float"
        },
        {
         "name": "EState_VSA8",
         "rawType": "float64",
         "type": "float"
        },
        {
         "name": "EState_VSA9",
         "rawType": "float64",
         "type": "float"
        },
        {
         "name": "VSA_EState1",
         "rawType": "float64",
         "type": "float"
        },
        {
         "name": "VSA_EState10",
         "rawType": "float64",
         "type": "float"
        },
        {
         "name": "VSA_EState2",
         "rawType": "float64",
         "type": "float"
        },
        {
         "name": "VSA_EState3",
         "rawType": "float64",
         "type": "float"
        },
        {
         "name": "VSA_EState4",
         "rawType": "float64",
         "type": "float"
        },
        {
         "name": "VSA_EState5",
         "rawType": "float64",
         "type": "float"
        },
        {
         "name": "VSA_EState6",
         "rawType": "float64",
         "type": "float"
        },
        {
         "name": "VSA_EState7",
         "rawType": "float64",
         "type": "float"
        },
        {
         "name": "VSA_EState8",
         "rawType": "float64",
         "type": "float"
        },
        {
         "name": "VSA_EState9",
         "rawType": "float64",
         "type": "float"
        },
        {
         "name": "FractionCSP3",
         "rawType": "float64",
         "type": "float"
        },
        {
         "name": "HeavyAtomCount",
         "rawType": "int64",
         "type": "integer"
        },
        {
         "name": "NHOHCount",
         "rawType": "int64",
         "type": "integer"
        },
        {
         "name": "NOCount",
         "rawType": "int64",
         "type": "integer"
        },
        {
         "name": "NumAliphaticCarbocycles",
         "rawType": "int64",
         "type": "integer"
        },
        {
         "name": "NumAliphaticHeterocycles",
         "rawType": "int64",
         "type": "integer"
        },
        {
         "name": "NumAliphaticRings",
         "rawType": "int64",
         "type": "integer"
        },
        {
         "name": "NumAmideBonds",
         "rawType": "int64",
         "type": "integer"
        },
        {
         "name": "NumAromaticCarbocycles",
         "rawType": "int64",
         "type": "integer"
        },
        {
         "name": "NumAromaticHeterocycles",
         "rawType": "int64",
         "type": "integer"
        },
        {
         "name": "NumAromaticRings",
         "rawType": "int64",
         "type": "integer"
        },
        {
         "name": "NumAtomStereoCenters",
         "rawType": "int64",
         "type": "integer"
        },
        {
         "name": "NumBridgeheadAtoms",
         "rawType": "int64",
         "type": "integer"
        },
        {
         "name": "NumHAcceptors",
         "rawType": "int64",
         "type": "integer"
        },
        {
         "name": "NumHDonors",
         "rawType": "int64",
         "type": "integer"
        },
        {
         "name": "NumHeteroatoms",
         "rawType": "int64",
         "type": "integer"
        },
        {
         "name": "NumHeterocycles",
         "rawType": "int64",
         "type": "integer"
        },
        {
         "name": "NumRotatableBonds",
         "rawType": "int64",
         "type": "integer"
        },
        {
         "name": "NumSaturatedCarbocycles",
         "rawType": "int64",
         "type": "integer"
        },
        {
         "name": "NumSaturatedHeterocycles",
         "rawType": "int64",
         "type": "integer"
        },
        {
         "name": "NumSaturatedRings",
         "rawType": "int64",
         "type": "integer"
        },
        {
         "name": "NumSpiroAtoms",
         "rawType": "int64",
         "type": "integer"
        },
        {
         "name": "NumUnspecifiedAtomStereoCenters",
         "rawType": "int64",
         "type": "integer"
        },
        {
         "name": "Phi",
         "rawType": "float64",
         "type": "float"
        },
        {
         "name": "RingCount",
         "rawType": "int64",
         "type": "integer"
        },
        {
         "name": "MolLogP",
         "rawType": "float64",
         "type": "float"
        },
        {
         "name": "MolMR",
         "rawType": "float64",
         "type": "float"
        },
        {
         "name": "fr_Al_COO",
         "rawType": "int64",
         "type": "integer"
        },
        {
         "name": "fr_Al_OH",
         "rawType": "int64",
         "type": "integer"
        },
        {
         "name": "fr_Al_OH_noTert",
         "rawType": "int64",
         "type": "integer"
        },
        {
         "name": "fr_ArN",
         "rawType": "int64",
         "type": "integer"
        },
        {
         "name": "fr_Ar_COO",
         "rawType": "int64",
         "type": "integer"
        },
        {
         "name": "fr_Ar_N",
         "rawType": "int64",
         "type": "integer"
        },
        {
         "name": "fr_Ar_NH",
         "rawType": "int64",
         "type": "integer"
        },
        {
         "name": "fr_Ar_OH",
         "rawType": "int64",
         "type": "integer"
        },
        {
         "name": "fr_COO",
         "rawType": "int64",
         "type": "integer"
        },
        {
         "name": "fr_COO2",
         "rawType": "int64",
         "type": "integer"
        },
        {
         "name": "fr_C_O",
         "rawType": "int64",
         "type": "integer"
        },
        {
         "name": "fr_C_O_noCOO",
         "rawType": "int64",
         "type": "integer"
        },
        {
         "name": "fr_C_S",
         "rawType": "int64",
         "type": "integer"
        },
        {
         "name": "fr_HOCCN",
         "rawType": "int64",
         "type": "integer"
        },
        {
         "name": "fr_Imine",
         "rawType": "int64",
         "type": "integer"
        },
        {
         "name": "fr_NH0",
         "rawType": "int64",
         "type": "integer"
        },
        {
         "name": "fr_NH1",
         "rawType": "int64",
         "type": "integer"
        },
        {
         "name": "fr_NH2",
         "rawType": "int64",
         "type": "integer"
        },
        {
         "name": "fr_N_O",
         "rawType": "int64",
         "type": "integer"
        },
        {
         "name": "fr_Ndealkylation1",
         "rawType": "int64",
         "type": "integer"
        },
        {
         "name": "fr_Ndealkylation2",
         "rawType": "int64",
         "type": "integer"
        },
        {
         "name": "fr_Nhpyrrole",
         "rawType": "int64",
         "type": "integer"
        },
        {
         "name": "fr_SH",
         "rawType": "int64",
         "type": "integer"
        },
        {
         "name": "fr_aldehyde",
         "rawType": "int64",
         "type": "integer"
        },
        {
         "name": "fr_alkyl_carbamate",
         "rawType": "int64",
         "type": "integer"
        },
        {
         "name": "fr_alkyl_halide",
         "rawType": "int64",
         "type": "integer"
        },
        {
         "name": "fr_allylic_oxid",
         "rawType": "int64",
         "type": "integer"
        },
        {
         "name": "fr_amide",
         "rawType": "int64",
         "type": "integer"
        },
        {
         "name": "fr_amidine",
         "rawType": "int64",
         "type": "integer"
        },
        {
         "name": "fr_aniline",
         "rawType": "int64",
         "type": "integer"
        },
        {
         "name": "fr_aryl_methyl",
         "rawType": "int64",
         "type": "integer"
        },
        {
         "name": "fr_azide",
         "rawType": "int64",
         "type": "integer"
        },
        {
         "name": "fr_azo",
         "rawType": "int64",
         "type": "integer"
        },
        {
         "name": "fr_barbitur",
         "rawType": "int64",
         "type": "integer"
        },
        {
         "name": "fr_benzene",
         "rawType": "int64",
         "type": "integer"
        },
        {
         "name": "fr_benzodiazepine",
         "rawType": "int64",
         "type": "integer"
        },
        {
         "name": "fr_bicyclic",
         "rawType": "int64",
         "type": "integer"
        },
        {
         "name": "fr_diazo",
         "rawType": "int64",
         "type": "integer"
        },
        {
         "name": "fr_dihydropyridine",
         "rawType": "int64",
         "type": "integer"
        },
        {
         "name": "fr_epoxide",
         "rawType": "int64",
         "type": "integer"
        },
        {
         "name": "fr_ester",
         "rawType": "int64",
         "type": "integer"
        },
        {
         "name": "fr_ether",
         "rawType": "int64",
         "type": "integer"
        },
        {
         "name": "fr_furan",
         "rawType": "int64",
         "type": "integer"
        },
        {
         "name": "fr_guanido",
         "rawType": "int64",
         "type": "integer"
        },
        {
         "name": "fr_halogen",
         "rawType": "int64",
         "type": "integer"
        },
        {
         "name": "fr_hdrzine",
         "rawType": "int64",
         "type": "integer"
        },
        {
         "name": "fr_hdrzone",
         "rawType": "int64",
         "type": "integer"
        },
        {
         "name": "fr_imidazole",
         "rawType": "int64",
         "type": "integer"
        },
        {
         "name": "fr_imide",
         "rawType": "int64",
         "type": "integer"
        },
        {
         "name": "fr_isocyan",
         "rawType": "int64",
         "type": "integer"
        },
        {
         "name": "fr_isothiocyan",
         "rawType": "int64",
         "type": "integer"
        },
        {
         "name": "fr_ketone",
         "rawType": "int64",
         "type": "integer"
        },
        {
         "name": "fr_ketone_Topliss",
         "rawType": "int64",
         "type": "integer"
        },
        {
         "name": "fr_lactam",
         "rawType": "int64",
         "type": "integer"
        },
        {
         "name": "fr_lactone",
         "rawType": "int64",
         "type": "integer"
        },
        {
         "name": "fr_methoxy",
         "rawType": "int64",
         "type": "integer"
        },
        {
         "name": "fr_morpholine",
         "rawType": "int64",
         "type": "integer"
        },
        {
         "name": "fr_nitrile",
         "rawType": "int64",
         "type": "integer"
        },
        {
         "name": "fr_nitro",
         "rawType": "int64",
         "type": "integer"
        },
        {
         "name": "fr_nitro_arom",
         "rawType": "int64",
         "type": "integer"
        },
        {
         "name": "fr_nitro_arom_nonortho",
         "rawType": "int64",
         "type": "integer"
        },
        {
         "name": "fr_nitroso",
         "rawType": "int64",
         "type": "integer"
        },
        {
         "name": "fr_oxazole",
         "rawType": "int64",
         "type": "integer"
        },
        {
         "name": "fr_oxime",
         "rawType": "int64",
         "type": "integer"
        },
        {
         "name": "fr_para_hydroxylation",
         "rawType": "int64",
         "type": "integer"
        },
        {
         "name": "fr_phenol",
         "rawType": "int64",
         "type": "integer"
        },
        {
         "name": "fr_phenol_noOrthoHbond",
         "rawType": "int64",
         "type": "integer"
        },
        {
         "name": "fr_phos_acid",
         "rawType": "int64",
         "type": "integer"
        },
        {
         "name": "fr_phos_ester",
         "rawType": "int64",
         "type": "integer"
        },
        {
         "name": "fr_piperdine",
         "rawType": "int64",
         "type": "integer"
        },
        {
         "name": "fr_piperzine",
         "rawType": "int64",
         "type": "integer"
        },
        {
         "name": "fr_priamide",
         "rawType": "int64",
         "type": "integer"
        },
        {
         "name": "fr_prisulfonamd",
         "rawType": "int64",
         "type": "integer"
        },
        {
         "name": "fr_pyridine",
         "rawType": "int64",
         "type": "integer"
        },
        {
         "name": "fr_quatN",
         "rawType": "int64",
         "type": "integer"
        },
        {
         "name": "fr_sulfide",
         "rawType": "int64",
         "type": "integer"
        },
        {
         "name": "fr_sulfonamd",
         "rawType": "int64",
         "type": "integer"
        },
        {
         "name": "fr_sulfone",
         "rawType": "int64",
         "type": "integer"
        },
        {
         "name": "fr_term_acetylene",
         "rawType": "int64",
         "type": "integer"
        },
        {
         "name": "fr_tetrazole",
         "rawType": "int64",
         "type": "integer"
        },
        {
         "name": "fr_thiazole",
         "rawType": "int64",
         "type": "integer"
        },
        {
         "name": "fr_thiocyan",
         "rawType": "int64",
         "type": "integer"
        },
        {
         "name": "fr_thiophene",
         "rawType": "int64",
         "type": "integer"
        },
        {
         "name": "fr_unbrch_alkane",
         "rawType": "int64",
         "type": "integer"
        },
        {
         "name": "fr_urea",
         "rawType": "int64",
         "type": "integer"
        }
       ],
       "conversionMethod": "pd.DataFrame",
       "ref": "8887e691-40dd-49ef-85a4-c6134188238c",
       "rows": [
        [
         "0",
         "7.875",
         "7.875",
         "0.3194444444444444",
         "0.3194444444444444",
         "0.46378398302396845",
         "7.5",
         "60.096",
         "52.032000000000004",
         "60.057514876",
         "26",
         "0",
         "0.04278927992053378",
         "-0.39638735063233616",
         "0.39638735063233616",
         "0.04278927992053378",
         "1.75",
         "2.0",
         "2.0",
         "16.24985029953303",
         "10.547573166539827",
         "1.5677116084812683",
         "-1.6891847809432488",
         "1.6080928326075683",
         "-1.6908528015472257",
         "4.09636113465441",
         "0.29476856785792466",
         "1.370950594454669",
         "1.9747448713915894",
         "2.0",
         "3.414213562373095",
         "2.861427157873053",
         "2.861427157873053",
         "1.914213562373095",
         "1.5233345472033855",
         "1.5233345472033855",
         "0.7236067977499788",
         "0.7236067977499788",
         "0.2236067977499789",
         "0.2236067977499789",
         "0.0",
         "0.0",
         "-0.04",
         "6.854752972273345",
         "3.9600000000000004",
         "2.9600000000000004",
         "1.96",
         "26.26336900881878",
         "5.106527394840706",
         "0.0",
         "0.0",
         "0.0",
         "0.0",
         "0.0",
         "0.0",
         "0.0",
         "0.0",
         "0.0",
         "6.923737199690624",
         "6.4208216229260096",
         "6.606881964512918",
         "0.0",
         "5.106527394840706",
         "0.0",
         "0.0",
         "0.0",
         "0.0",
         "13.344558822616634",
         "6.606881964512918",
         "0.0",
         "0.0",
         "0.0",
         "0.0",
         "0.0",
         "0.0",
         "0.0",
         "11.713409359353623",
         "0.0",
         "0.0",
         "13.344558822616634",
         "0.0",
         "0.0",
         "0.0",
         "0.0",
         "20.23",
         "0.0",
         "0.0",
         "0.0",
         "0.0",
         "6.606881964512918",
         "6.4208216229260096",
         "0.0",
         "0.0",
         "6.923737199690624",
         "0.0",
         "5.106527394840706",
         "0.0",
         "0.0",
         "0.0",
         "7.875",
         "0.0",
         "0.0",
         "0.0",
         "0.875",
         "2.25",
         "0.0",
         "1.0",
         "4",
         "1",
         "1",
         "0",
         "0",
         "0",
         "0",
         "0",
         "0",
         "0",
         "0",
         "0",
         "1",
         "1",
         "1",
         "0",
         "1",
         "0",
         "0",
         "0",
         "0",
         "0",
         "2.9304000000000006",
         "0",
         "0.3887",
         "17.376800000000003",
         "0",
         "1",
         "1",
         "0",
         "0",
         "0",
         "0",
         "0",
         "0",
         "0",
         "0",
         "0",
         "0",
         "0",
         "0",
         "0",
         "0",
         "0",
         "0",
         "0",
         "0",
         "0",
         "0",
         "0",
         "0",
         "0",
         "0",
         "0",
         "0",
         "0",
         "0",
         "0",
         "0",
         "0",
         "0",
         "0",
         "0",
         "0",
         "0",
         "0",
         "0",
         "0",
         "0",
         "0",
         "0",
         "0",
         "0",
         "0",
         "0",
         "0",
         "0",
         "0",
         "0",
         "0",
         "0",
         "0",
         "0",
         "0",
         "0",
         "0",
         "0",
         "0",
         "0",
         "0",
         "0",
         "0",
         "0",
         "0",
         "0",
         "0",
         "0",
         "0",
         "0",
         "0",
         "0",
         "0",
         "0",
         "0",
         "0",
         "0",
         "0",
         "0",
         "0",
         "0",
         "0"
        ]
       ],
       "shape": {
        "columns": 217,
        "rows": 1
       }
      },
      "text/html": [
       "<div>\n",
       "<style scoped>\n",
       "    .dataframe tbody tr th:only-of-type {\n",
       "        vertical-align: middle;\n",
       "    }\n",
       "\n",
       "    .dataframe tbody tr th {\n",
       "        vertical-align: top;\n",
       "    }\n",
       "\n",
       "    .dataframe thead th {\n",
       "        text-align: right;\n",
       "    }\n",
       "</style>\n",
       "<table border=\"1\" class=\"dataframe\">\n",
       "  <thead>\n",
       "    <tr style=\"text-align: right;\">\n",
       "      <th></th>\n",
       "      <th>MaxAbsEStateIndex</th>\n",
       "      <th>MaxEStateIndex</th>\n",
       "      <th>MinAbsEStateIndex</th>\n",
       "      <th>MinEStateIndex</th>\n",
       "      <th>qed</th>\n",
       "      <th>SPS</th>\n",
       "      <th>MolWt</th>\n",
       "      <th>HeavyAtomMolWt</th>\n",
       "      <th>ExactMolWt</th>\n",
       "      <th>NumValenceElectrons</th>\n",
       "      <th>...</th>\n",
       "      <th>fr_sulfide</th>\n",
       "      <th>fr_sulfonamd</th>\n",
       "      <th>fr_sulfone</th>\n",
       "      <th>fr_term_acetylene</th>\n",
       "      <th>fr_tetrazole</th>\n",
       "      <th>fr_thiazole</th>\n",
       "      <th>fr_thiocyan</th>\n",
       "      <th>fr_thiophene</th>\n",
       "      <th>fr_unbrch_alkane</th>\n",
       "      <th>fr_urea</th>\n",
       "    </tr>\n",
       "  </thead>\n",
       "  <tbody>\n",
       "    <tr>\n",
       "      <th>0</th>\n",
       "      <td>7.875</td>\n",
       "      <td>7.875</td>\n",
       "      <td>0.319444</td>\n",
       "      <td>0.319444</td>\n",
       "      <td>0.463784</td>\n",
       "      <td>7.5</td>\n",
       "      <td>60.096</td>\n",
       "      <td>52.032</td>\n",
       "      <td>60.057515</td>\n",
       "      <td>26</td>\n",
       "      <td>...</td>\n",
       "      <td>0</td>\n",
       "      <td>0</td>\n",
       "      <td>0</td>\n",
       "      <td>0</td>\n",
       "      <td>0</td>\n",
       "      <td>0</td>\n",
       "      <td>0</td>\n",
       "      <td>0</td>\n",
       "      <td>0</td>\n",
       "      <td>0</td>\n",
       "    </tr>\n",
       "  </tbody>\n",
       "</table>\n",
       "<p>1 rows × 217 columns</p>\n",
       "</div>"
      ],
      "text/plain": [
       "   MaxAbsEStateIndex  MaxEStateIndex  MinAbsEStateIndex  MinEStateIndex  \\\n",
       "0              7.875           7.875           0.319444        0.319444   \n",
       "\n",
       "        qed  SPS   MolWt  HeavyAtomMolWt  ExactMolWt  NumValenceElectrons  \\\n",
       "0  0.463784  7.5  60.096          52.032   60.057515                   26   \n",
       "\n",
       "   ...  fr_sulfide  fr_sulfonamd  fr_sulfone  fr_term_acetylene  fr_tetrazole  \\\n",
       "0  ...           0             0           0                  0             0   \n",
       "\n",
       "   fr_thiazole  fr_thiocyan  fr_thiophene  fr_unbrch_alkane  fr_urea  \n",
       "0            0            0             0                 0        0  \n",
       "\n",
       "[1 rows x 217 columns]"
      ]
     },
     "execution_count": 11,
     "metadata": {},
     "output_type": "execute_result"
    }
   ],
   "source": [
    "dataframe"
   ]
  },
  {
   "cell_type": "code",
   "execution_count": null,
   "metadata": {},
   "outputs": [],
   "source": []
  }
 ],
 "metadata": {
  "kernelspec": {
   "display_name": "Python 3",
   "language": "python",
   "name": "python3"
  },
  "language_info": {
   "codemirror_mode": {
    "name": "ipython",
    "version": 3
   },
   "file_extension": ".py",
   "mimetype": "text/x-python",
   "name": "python",
   "nbconvert_exporter": "python",
   "pygments_lexer": "ipython3",
   "version": "3.9.12"
  }
 },
 "nbformat": 4,
 "nbformat_minor": 2
}
