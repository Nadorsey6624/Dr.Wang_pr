{
 "cells": [
  {
   "cell_type": "code",
   "execution_count": 6,
   "id": "63bc3af1-28ba-454b-b9e1-06f123566f7a",
   "metadata": {},
   "outputs": [],
   "source": [
    "#GOAL MAKE A LINE OF CODE TO COUNT THE NUMBER OF CHAINS IN PDB FILE\n",
    "\n",
    "## Is this displaying??\n",
    "## yes \n",
    "\n",
    "## ANDDDDDDDD THE PDB stuff begins in class! You got Dr. Cheng excited. This is her stuff\n",
    "## See i peeped you got quiet and  why now, but is this what you were alluding too earlier. SSomething about how class would be easier?\n",
    "## I mean yes I think so, because there is no way she is gonna expect people to do Ca distance - it is pretty hard off the bat."
   ]
  },
  {
   "cell_type": "code",
   "execution_count": 1,
   "id": "91ab14b0-db88-47b6-8197-fff1ce0ad6f2",
   "metadata": {},
   "outputs": [
    {
     "ename": "ModuleNotFoundError",
     "evalue": "No module named 'tabulate'",
     "output_type": "error",
     "traceback": [
      "\u001b[1;31m---------------------------------------------------------------------------\u001b[0m",
      "\u001b[1;31mModuleNotFoundError\u001b[0m                       Traceback (most recent call last)",
      "Cell \u001b[1;32mIn[1], line 4\u001b[0m\n\u001b[0;32m      2\u001b[0m \u001b[38;5;28;01mimport\u001b[39;00m\u001b[38;5;250m \u001b[39m\u001b[38;5;21;01msys\u001b[39;00m\n\u001b[0;32m      3\u001b[0m \u001b[38;5;66;03m#sys.path.append('/home/nadorsey/.local/lib/python3.9/site-packages')\u001b[39;00m\n\u001b[1;32m----> 4\u001b[0m \u001b[38;5;28;01mfrom\u001b[39;00m\u001b[38;5;250m \u001b[39m\u001b[38;5;21;01mtabulate\u001b[39;00m\u001b[38;5;250m \u001b[39m\u001b[38;5;28;01mimport\u001b[39;00m tabulate\n\u001b[0;32m      5\u001b[0m \u001b[38;5;28;01mimport\u001b[39;00m\u001b[38;5;250m \u001b[39m\u001b[38;5;21;01mBio\u001b[39;00m \n\u001b[0;32m      6\u001b[0m \u001b[38;5;28;01mfrom\u001b[39;00m\u001b[38;5;250m \u001b[39m\u001b[38;5;21;01mBio\u001b[39;00m\u001b[38;5;21;01m.\u001b[39;00m\u001b[38;5;21;01mPDB\u001b[39;00m\u001b[38;5;250m \u001b[39m\u001b[38;5;28;01mimport\u001b[39;00m \u001b[38;5;241m*\u001b[39m\n",
      "\u001b[1;31mModuleNotFoundError\u001b[0m: No module named 'tabulate'"
     ]
    }
   ],
   "source": [
    "import os \n",
    "import sys\n",
    "#sys.path.append('/home/nadorsey/.local/lib/python3.9/site-packages')\n",
    "from tabulate import tabulate\n",
    "import Bio \n",
    "from Bio.PDB import *\n",
    "from Bio.PDB.MMCIFParser import MMCIFParser \n",
    "from Bio.PDB.MMCIF2Dict import MMCIF2Dict\n",
    "from Bio import PDB\n",
    "import numpy as np \n",
    "import pandas as pd \n",
    "import matplotlib.pyplot as plt "
   ]
  },
  {
   "cell_type": "code",
   "execution_count": null,
   "id": "99d1da17-87cd-4ced-a93f-6865d052cf73",
   "metadata": {},
   "outputs": [],
   "source": [
    "yourPDB = input('Please input your PDB id. Ex: 4jpp \\n')\n",
    "pdbfiles = PDBList()\n",
    "pdbf = pdbfiles.retrieve_pdb_file(yourPDB, pdir = \"/Users/noahd/Downloads/pdbfiles\")\n",
    "\n",
    "# This is my computer's path Noah - Go ahead and leave it here but commented\n",
    "#pdbf = pdbfiles.retrieve_pdb_file(yourPDB, pdir = \"/Users/micha/Downloads/pdbfiles\")\n",
    "\n",
    "print(pdbf)\n",
    "print(yourPDB)\n",
    "\n",
    "\n",
    "\n",
    "\n",
    "    \n",
    "\n"
   ]
  },
  {
   "cell_type": "code",
   "execution_count": null,
   "id": "934f9d10-4d76-4714-ac4e-01d80313f70f",
   "metadata": {
    "scrolled": true
   },
   "outputs": [],
   "source": [
    "test1=pdbf.split(\".\")[1]\n",
    "print(test1)\n",
    "pdb_id = pdbf.split(\".\")[0]\n",
    "print(pdb_id)\n",
    "if test1 == \"cif\":\n",
    "    parser = MMCIFParser()\n",
    "    structure = parser.get_structure(pdb_id, pdbf)\n",
    "    print(type(structure))\n",
    "    for model in structure:\n",
    "        print(model)\n",
    "        for chain in model:\n",
    "            print(chain)\n",
    "            for residue in chain:\n",
    "                print(residue)\n",
    "                #for atom in residue:\n",
    "                    #print(atom)\n",
    "elif test1 == \"pdb\":\n",
    "    parser = PDBParser(PERMISSIVE = True, QUIET = False)\n",
    "    structure = parser.get_structure(pdb_id, pdbf)\n",
    "    print(type(structure))\n",
    "    for model in structure:\n",
    "        print(model)\n",
    "        for chain in model:\n",
    "            print(chain)\n",
    "            for residue in chain:\n",
    "                print(residue)\n",
    "                #for atom in residue:\n",
    "                    #print(atom)\n",
    "elif test1 == \"mmtf\":\n",
    "    parser = MMTFParser()\n",
    "    structure = MMTFParser.get_structure(\"PDB/pdbf\")\n",
    "\n",
    "elif test1 == \"ent\":\n",
    "    pqr_parser = PDBParser(PERMISSIVE=1, is_pqr=True)\n",
    "    structure = parser.get_structure(pdb_id, pdbf, is_pqr=True)\n",
    "\n"
   ]
  },
  {
   "cell_type": "code",
   "execution_count": null,
   "id": "5fab04e5",
   "metadata": {},
   "outputs": [],
   "source": [
    "# def enumerate_file(yourPDB):\n",
    "#     with open(yourPDB, 'r') as file: \n",
    "#         lines = file.readlines()\n",
    "#         for index, line in enumerate(lines):\n",
    "#             print(f\"Line {index+1}: {line.strip()}\")\n",
    "#             if line.startswitch(\"ATOM\") or line.startswitch(\"HETAM\"):\n",
    "#                 residue_count += 1\n",
    "#     print(f\"Total number of residues: {residue_count}\")\n",
    "    \n"
   ]
  },
  {
   "cell_type": "code",
   "execution_count": null,
   "id": "b898bac4-9f21-4437-8f92-3d853b4a2767",
   "metadata": {},
   "outputs": [],
   "source": [
    "# num_chains = len({chain.id for chain in structure.get_chains()})\n",
    "\n",
    "# print(f\"Number of chains in {yourPDB}: {num_chains}\")\n",
    "\n",
    "# residues = []\n",
    "\n",
    "# for chain in structure.get_chains():\n",
    "#     for residue in chain:\n",
    "#         residue_count += 1\n",
    "#         residues.append(residue.get_resname())\n",
    "\n",
    "# print(f\"Total number of residues: {residue_count}\")\n",
    "# print(\"\\nFirst few residues:\")\n",
    "# for i, name in enumerate(residues[:5]):  \n",
    "#     print(f\"Index {i}: {name}\")"
   ]
  },
  {
   "cell_type": "code",
   "execution_count": null,
   "id": "b90a089c",
   "metadata": {},
   "outputs": [],
   "source": [
    "#Chain identifiers for easier calling.\n",
    "chain1=structure[0][\"A\"]\n",
    "chain2=structure[0][\"B\"]\n",
    "chain3=structure[0][\"C\"]\n",
    "chain4=structure[0][\"D\"]\n",
    "chain5=structure[0][\"E\"]\n",
    "\n",
    "num_chain = 0\n",
    "num_residue = 0 \n",
    "    #Created a new variable to store a count of residues.\n",
    "\n",
    "      \n",
    "for model in structure:\n",
    "    chain_info = dict()\n",
    "    for chain in model:\n",
    "        num_chain = num_chain +1\n",
    "        for i, residue in enumerate(list(chain1)):\n",
    "            num_residue = i     \n",
    "        \n",
    "\n",
    "            \n",
    "            #i is just the index of the for i, residue in enumerate(list(chain1)) - \n",
    "            # Therefore the last i is the number of residues\n",
    "\n",
    "\n",
    "\n",
    "# A little fancier so we can know what the number outputs are\n",
    "print(f\"This is the number of chains: {num_chain}\")\n",
    "print(f\"This is the number of chains: {num_residue} in {chain1}\")\n"
   ]
  },
  {
   "cell_type": "markdown",
   "id": "1377b6dc",
   "metadata": {},
   "source": [
    "# Latest instructions\n",
    "\n",
    "This can be a little hard to figure out but it will be key to being able to calculate distances between chains. \n",
    "\n",
    "Background info:\n",
    "In a PDB file, \"CA\" refers to the \"alpha carbon\" atom of an amino acid residue, which is the central carbon atom in the backbone of the protein chain; it is a key point of reference for describing protein structure and is often used in structural analysis due to its consistent position within each residue. \n",
    "\n",
    "I want to you try to get try to create a variable that stores the 'CA' atoms in the residues within a chain.\n",
    "For now, it can be done outside of our previous loop development.\n",
    "\n",
    "Hint: I achieved this with the syntax formatting - just a single line of code to handle a particular chain ---\n",
    "( We will need a second line for another chain for comparison between them)\n",
    "\n",
    "\n",
    "_______ =  [ _____ for _______ in _______ if _____ in ______ ]\n",
    "\n",
    "\n",
    "=========================================================================================================================================\n",
    "\n",
    "alternatively I believe it can be accomplished with this syntax also -- requires use of some bio.PDB functions.\n",
    "\n",
    "______ = [ ______ for ______ in _____ if _________ == ______ ]\n",
    "\n",
    "Once we get this done, we will smash everything together in the next part to compare Ca distances between chains in pairwise residues. \n",
    "Afterward we will move on to Rdkit! (Don't worry - we will return to this pdb stuff sometime during the semester when it comes to the class work.)\n"
   ]
  },
  {
   "cell_type": "code",
   "execution_count": null,
   "id": "59ba86a1",
   "metadata": {},
   "outputs": [],
   "source": [
    "def getAlphaCarbons(chain):\n",
    "    vec = []\n",
    "    for residue in chain:\n",
    "        for atom in residue:\n",
    "         if atom.get_name() == \"CA\":\n",
    "            vec = vec + [atom.get_vector()]\n",
    "    return vec\n",
    "def dist (a,b):\n",
    "   return(a-b).norm()\n",
    "vecA = getAlphaCarbons(chain1)\n",
    "vecB = getAlphaCarbons(chain2)\n",
    "\n",
    "t = {}\n",
    "model = structure[0]\n",
    "\n",
    "for model in structure:\n",
    "   for chain in model: \n",
    "      for residue in chain:\n",
    "         for a in vecA: \n",
    "            for b in vecB:\n",
    "               if dist(a,b) <= 8:\n",
    "                  key = (chain, residue)\n",
    "                  if key not in t:\n",
    "                     t[key] = []\n",
    "                  t[key].append((a, b, dist(a,b)))\n",
    "\n",
    "#print(num_chain) \n",
    "#print(num_residue)\n",
    "\n",
    "print(t[key]) \n"
   ]
  },
  {
   "cell_type": "markdown",
   "id": "574f1386",
   "metadata": {},
   "source": []
  },
  {
   "cell_type": "code",
   "execution_count": null,
   "id": "90fb10f9",
   "metadata": {},
   "outputs": [],
   "source": []
  },
  {
   "cell_type": "code",
   "execution_count": null,
   "id": "487f78a3",
   "metadata": {},
   "outputs": [],
   "source": []
  }
 ],
 "metadata": {
  "kernelspec": {
   "display_name": "Python 3",
   "language": "python",
   "name": "python3"
  },
  "language_info": {
   "codemirror_mode": {
    "name": "ipython",
    "version": 3
   },
   "file_extension": ".py",
   "mimetype": "text/x-python",
   "name": "python",
   "nbconvert_exporter": "python",
   "pygments_lexer": "ipython3",
   "version": "3.12.9"
  },
  "widgets": {
   "application/vnd.jupyter.widget-state+json": {
    "state": {},
    "version_major": 2,
    "version_minor": 0
   }
  }
 },
 "nbformat": 4,
 "nbformat_minor": 5
}
