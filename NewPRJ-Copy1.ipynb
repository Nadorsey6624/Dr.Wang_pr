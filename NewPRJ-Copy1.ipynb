{
 "cells": [
  {
   "cell_type": "code",
   "execution_count": 1,
   "id": "63bc3af1-28ba-454b-b9e1-06f123566f7a",
   "metadata": {},
   "outputs": [],
   "source": [
    "#GOAL MAKE A LINE OF CODE TO COUNT THE NUMBER OF CHAINS IN PDB FILE"
   ]
  },
  {
   "cell_type": "code",
   "execution_count": 2,
   "id": "91ab14b0-db88-47b6-8197-fff1ce0ad6f2",
   "metadata": {},
   "outputs": [],
   "source": [
    "import os \n",
    "import sys\n",
    "#sys.path.append('/home/nadorsey/.local/lib/python3.9/site-packages')\n",
    "from tabulate import tabulate\n",
    "import Bio \n",
    "from Bio.PDB import *\n",
    "from Bio.PDB.MMCIFParser import MMCIFParser \n",
    "from Bio.PDB.MMCIF2Dict import MMCIF2Dict\n",
    "from Bio import PDB\n",
    "import numpy as np \n",
    "import pandas as pd \n",
    "import matplotlib.pyplot as plt "
   ]
  },
  {
   "cell_type": "code",
   "execution_count": 7,
   "id": "99d1da17-87cd-4ced-a93f-6865d052cf73",
   "metadata": {},
   "outputs": [
    {
     "name": "stdout",
     "output_type": "stream",
     "text": [
      "Structure exists: '/Users/noahd/Downloads/pdbfiles\\4jpp.cif' \n",
      "/Users/noahd/Downloads/pdbfiles\\4jpp.cif\n",
      "4JPP\n",
      "Structure exists: '.\\pdb4jpp.ent' \n",
      "Number of chains in 4JPP: 5\n",
      "Total number of residues: 1144\n",
      "\n",
      "First few residues:\n",
      "Index 0: VAL\n",
      "Index 1: ASP\n",
      "Index 2: ALA\n",
      "Index 3: GLY\n",
      "Index 4: PHE\n"
     ]
    },
    {
     "name": "stderr",
     "output_type": "stream",
     "text": [
      "WARNING: The default download format has changed from PDB to PDBx/mmCif\n"
     ]
    }
   ],
   "source": [
    "yourPDB = input('Please input your PDB id. Ex: 4jpp \\n')\n",
    "pdbfiles = PDBList()\n",
    "pdbf = pdbfiles.retrieve_pdb_file(yourPDB, pdir = \"/Users/noahd/Downloads/pdbfiles\")\n",
    "print(pdbf)\n",
    "print(yourPDB)\n",
    "\n",
    "pdbl = PDB.PDBList()\n",
    "pdb_path = pdbl.retrieve_pdb_file(yourPDB, pdir=\".\", file_format=\"pdb\")\n",
    "\n",
    "\n",
    "parser = PDB.PDBParser(QUIET=True)\n",
    "structure = parser.get_structure(yourPDB, pdb_path)\n",
    "num_chains = len({chain.id for chain in structure.get_chains()})\n",
    "\n",
    "print(f\"Number of chains in {yourPDB}: {num_chains}\")\n",
    "\n",
    "residues = []\n",
    "\n",
    "for chain in structure.get_chains():\n",
    "    for residue in chain:\n",
    "        residue_count += 1\n",
    "        residues.append(residue.get_resname())\n",
    "\n",
    "print(f\"Total number of residues: {residue_count}\")\n",
    "print(\"\\nFirst few residues:\")\n",
    "for i, name in enumerate(residues[:5]):  \n",
    "    print(f\"Index {i}: {name}\")\n",
    "    \n",
    "\n"
   ]
  },
  {
   "cell_type": "code",
   "execution_count": 4,
   "id": "934f9d10-4d76-4714-ac4e-01d80313f70f",
   "metadata": {
    "scrolled": true
   },
   "outputs": [
    {
     "name": "stdout",
     "output_type": "stream",
     "text": [
      "cif\n",
      "/Users/noahd/Downloads/pdbfiles\\4jpp\n"
     ]
    },
    {
     "name": "stderr",
     "output_type": "stream",
     "text": [
      "C:\\Users\\noahd\\AppData\\Roaming\\Python\\Python39\\site-packages\\Bio\\PDB\\StructureBuilder.py:100: PDBConstructionWarning: WARNING: Chain A is discontinuous at line 5027.\n",
      "  warnings.warn(\n",
      "C:\\Users\\noahd\\AppData\\Roaming\\Python\\Python39\\site-packages\\Bio\\PDB\\StructureBuilder.py:100: PDBConstructionWarning: WARNING: Chain B is discontinuous at line 5142.\n",
      "  warnings.warn(\n",
      "C:\\Users\\noahd\\AppData\\Roaming\\Python\\Python39\\site-packages\\Bio\\PDB\\StructureBuilder.py:100: PDBConstructionWarning: WARNING: Chain C is discontinuous at line 5240.\n",
      "  warnings.warn(\n",
      "C:\\Users\\noahd\\AppData\\Roaming\\Python\\Python39\\site-packages\\Bio\\PDB\\StructureBuilder.py:100: PDBConstructionWarning: WARNING: Chain D is discontinuous at line 5335.\n",
      "  warnings.warn(\n",
      "C:\\Users\\noahd\\AppData\\Roaming\\Python\\Python39\\site-packages\\Bio\\PDB\\StructureBuilder.py:100: PDBConstructionWarning: WARNING: Chain E is discontinuous at line 5438.\n",
      "  warnings.warn(\n"
     ]
    },
    {
     "name": "stdout",
     "output_type": "stream",
     "text": [
      "<class 'Bio.PDB.Structure.Structure'>\n",
      "<Model id=0>\n"
     ]
    },
    {
     "ename": "NameError",
     "evalue": "name 'chain' is not defined",
     "output_type": "error",
     "traceback": [
      "\u001b[1;31m---------------------------------------------------------------------------\u001b[0m",
      "\u001b[1;31mNameError\u001b[0m                                 Traceback (most recent call last)",
      "Cell \u001b[1;32mIn[4], line 12\u001b[0m\n\u001b[0;32m     10\u001b[0m     \u001b[38;5;28;01mfor\u001b[39;00m model \u001b[38;5;129;01min\u001b[39;00m structure:\n\u001b[0;32m     11\u001b[0m         \u001b[38;5;28mprint\u001b[39m(model)\n\u001b[1;32m---> 12\u001b[0m         \u001b[38;5;28;01mfor\u001b[39;00m residue \u001b[38;5;129;01min\u001b[39;00m \u001b[43mchain\u001b[49m:\n\u001b[0;32m     13\u001b[0m             \u001b[38;5;28mprint\u001b[39m(residue)\n\u001b[0;32m     15\u001b[0m \u001b[38;5;28;01melif\u001b[39;00m test1 \u001b[38;5;241m==\u001b[39m \u001b[38;5;124m\"\u001b[39m\u001b[38;5;124mpdb\u001b[39m\u001b[38;5;124m\"\u001b[39m:\n",
      "\u001b[1;31mNameError\u001b[0m: name 'chain' is not defined"
     ]
    }
   ],
   "source": [
    "test1=pdbf.split(\".\")[1]\n",
    "print(test1)\n",
    "pdb_id = pdbf.split(\".\")[0]\n",
    "print(pdb_id)\n",
    "\n",
    "if test1 == \"cif\":\n",
    "    parser = MMCIFParser()\n",
    "    structure = parser.get_structure(pdb_id, pdbf)\n",
    "    print(type(structure))\n",
    "    for model in structure:\n",
    "        print(model)\n",
    "        for residue in chain:\n",
    "            print(residue)\n",
    "\n",
    "elif test1 == \"pdb\":\n",
    "    parser = PDBParser(PERMISSIVE = TRUE, QUIET = False)\n",
    "    structure = parser.get_structure(pdb_id,pdbf)\n",
    "    print(type(structure))\n",
    "    for model in structure:\n",
    "        print(model)\n",
    "        for residue in chain:\n",
    "            print(residue)\n",
    "elif test1 == \"mmtf\":\n",
    "    parser = MMTFParser()\n",
    "    structure = MMTFParser.get_structure(\"PDB/pdbf\")\n",
    "\n",
    "elif test1 == \"ent\":\n",
    "    pqr_parser = PDBParser(PERMISSIVE=1, is_pqr=True)\n",
    "    structure = parser.get_structure(pdb_id,pdbf, is_pqr=True)\n",
    "\n",
    "\n"
   ]
  },
  {
   "cell_type": "code",
   "execution_count": null,
   "id": "28f2dd96-cc98-4983-8c7a-a72ed1aa7219",
   "metadata": {},
   "outputs": [],
   "source": [
    "    #Chain identifiers for easier calling.\n",
    "chain1=structure[0][\"A\"]\n",
    "chain2=structure[0][\"B\"]\n",
    "chain3=structure[0][\"C\"]\n",
    "chain4=structure[0][\"D\"]\n",
    "chain5=structure[0][\"E\"]\n",
    "\n",
    "num_chain=0\n",
    "\n",
    "for model in structure:\n",
    "    chain_info=dict()\n",
    "    for chain in model:\n",
    "        num_chain = num_chain +1\n",
    "\n",
    "\n",
    "print(num_chain) "
   ]
  },
  {
   "cell_type": "code",
   "execution_count": 5,
   "id": "5fab04e5",
   "metadata": {},
   "outputs": [],
   "source": [
    "def enumerate_file(yourPDB):\n",
    "    with open(yourPDB, 'r') as file: \n",
    "        lines = file.readlines()\n",
    "        for index, line in enumerate(lines):\n",
    "            print(f\"Line {index+1}: {line.strip()}\")\n",
    "            if line.startswitch(\"ATOM\") or line.startswitch(\"HETAM\"):\n",
    "                residue_count += 1\n",
    "    print(f\"Total number of residues: {residue_count}\")\n",
    "    \n"
   ]
  },
  {
   "cell_type": "code",
   "execution_count": null,
   "id": "b898bac4-9f21-4437-8f92-3d853b4a2767",
   "metadata": {},
   "outputs": [],
   "source": []
  }
 ],
 "metadata": {
  "kernelspec": {
   "display_name": "Python 3",
   "language": "python",
   "name": "python3"
  },
  "language_info": {
   "codemirror_mode": {
    "name": "ipython",
    "version": 3
   },
   "file_extension": ".py",
   "mimetype": "text/x-python",
   "name": "python",
   "nbconvert_exporter": "python",
   "pygments_lexer": "ipython3",
   "version": "3.9.12"
  },
  "widgets": {
   "application/vnd.jupyter.widget-state+json": {
    "state": {},
    "version_major": 2,
    "version_minor": 0
   }
  }
 },
 "nbformat": 4,
 "nbformat_minor": 5
}
